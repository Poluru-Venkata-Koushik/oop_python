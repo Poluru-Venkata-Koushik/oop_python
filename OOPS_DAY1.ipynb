{
  "nbformat": 4,
  "nbformat_minor": 0,
  "metadata": {
    "colab": {
      "name": "Untitled30.ipynb",
      "provenance": [],
      "authorship_tag": "ABX9TyPCY7pjqGzFijTmBQs0lFQN",
      "include_colab_link": true
    },
    "kernelspec": {
      "name": "python3",
      "display_name": "Python 3"
    },
    "language_info": {
      "name": "python"
    }
  },
  "cells": [
    {
      "cell_type": "markdown",
      "metadata": {
        "id": "view-in-github",
        "colab_type": "text"
      },
      "source": [
        "<a href=\"https://colab.research.google.com/github/Poluru-Venkata-Koushik/oop_python/blob/main/OOPS_DAY1.ipynb\" target=\"_parent\"><img src=\"https://colab.research.google.com/assets/colab-badge.svg\" alt=\"Open In Colab\"/></a>"
      ]
    },
    {
      "cell_type": "markdown",
      "source": [
        "**OOPS IN PYTHON**"
      ],
      "metadata": {
        "id": "ZeSgdUsbUIyL"
      }
    },
    {
      "cell_type": "code",
      "source": [
        "# CLASS IS A blue print for an object "
      ],
      "metadata": {
        "id": "rPoWJ9HjULhV"
      },
      "execution_count": 1,
      "outputs": []
    },
    {
      "cell_type": "code",
      "source": [
        "# EXAMPLE"
      ],
      "metadata": {
        "id": "UvW45Ra1Uawz"
      },
      "execution_count": 2,
      "outputs": []
    },
    {
      "cell_type": "code",
      "source": [
        "class new_object():\n",
        "  pass"
      ],
      "metadata": {
        "id": "aFzIHKUCUhAY"
      },
      "execution_count": 3,
      "outputs": []
    },
    {
      "cell_type": "code",
      "source": [
        "#Object is an instantiation of a class. It has a state, behavior and an entity. When an object is initialized, noo memory is allocated to it"
      ],
      "metadata": {
        "id": "5AEQYd9OUi4F"
      },
      "execution_count": 5,
      "outputs": []
    },
    {
      "cell_type": "code",
      "source": [
        "ob1= new_object()"
      ],
      "metadata": {
        "id": "XMHJzy1YU8ba"
      },
      "execution_count": 6,
      "outputs": []
    },
    {
      "cell_type": "code",
      "source": [
        "class car_db():\n",
        "  def __init__(self,name,model,make):\n",
        "    self.name=name\n",
        "    self.model=model\n",
        "    self.make=make\n",
        "  def __print__(self):\n",
        "    print(\"Name : {:>}, Model : {:>}, Make :{:>}\".format(self.name,self.model,self.make))"
      ],
      "metadata": {
        "id": "JDKEBI57VFDo"
      },
      "execution_count": 14,
      "outputs": []
    },
    {
      "cell_type": "code",
      "source": [
        "a0=car_db( \" BMW X1 2022  \",\"D line\",\" BMW MOTORAD\")\n",
        "a1=car_db( \" BMW X2 2022  \",\"M line\",\" BMW MOTORAD\")\n",
        "a2=car_db( \" BMW X3 2022  \",\"M line\",\" BMW MOTORAD\")"
      ],
      "metadata": {
        "id": "De4-pKJTVYhT"
      },
      "execution_count": 15,
      "outputs": []
    },
    {
      "cell_type": "code",
      "source": [
        "a0.__print__()"
      ],
      "metadata": {
        "colab": {
          "base_uri": "https://localhost:8080/"
        },
        "id": "QlGjJjiSWUHv",
        "outputId": "56dfd61f-76c4-4452-aebf-0bdf922e3277"
      },
      "execution_count": 16,
      "outputs": [
        {
          "output_type": "stream",
          "name": "stdout",
          "text": [
            "Name :  BMW X1 2022  , Model : D line, Make : BMW MOTORAD\n"
          ]
        }
      ]
    },
    {
      "cell_type": "code",
      "source": [
        ""
      ],
      "metadata": {
        "id": "ZZY0bvFtWaWX"
      },
      "execution_count": null,
      "outputs": []
    }
  ]
}